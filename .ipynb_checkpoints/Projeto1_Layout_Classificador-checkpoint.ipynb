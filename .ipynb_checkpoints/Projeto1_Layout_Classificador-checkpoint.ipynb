{
 "cells": [
  {
   "cell_type": "markdown",
   "metadata": {},
   "source": [
    "# Projeto 1 - Ciência dos Dados"
   ]
  },
  {
   "cell_type": "markdown",
   "metadata": {},
   "source": [
    "Nome: Ricardo Ribeiro Rodrigues \n",
    "\n",
    "Nome: Guilherme da Franca Silva Escobar"
   ]
  },
  {
   "cell_type": "markdown",
   "metadata": {},
   "source": [
    "Atenção: Serão permitidos grupos de três pessoas, mas com uma rubrica mais exigente. Grupos deste tamanho precisarão fazer um questionário de avaliação de trabalho em equipe"
   ]
  },
  {
   "cell_type": "markdown",
   "metadata": {},
   "source": [
    "___\n",
    "Carregando algumas bibliotecas:"
   ]
  },
  {
   "cell_type": "code",
   "execution_count": 1,
   "metadata": {},
   "outputs": [],
   "source": [
    "%matplotlib inline\n",
    "import pandas as pd\n",
    "import matplotlib.pyplot as plt\n",
    "import numpy as np\n",
    "import os"
   ]
  },
  {
   "cell_type": "code",
   "execution_count": 2,
   "metadata": {
    "scrolled": false
   },
   "outputs": [
    {
     "name": "stdout",
     "output_type": "stream",
     "text": [
      "Esperamos trabalhar no diretório\n",
      "C:\\Users\\riywa\\Desktop\\Ciencia_de_dados\\Projeto1-CDados\n"
     ]
    }
   ],
   "source": [
    "print('Esperamos trabalhar no diretório')\n",
    "print(os.getcwd())"
   ]
  },
  {
   "cell_type": "markdown",
   "metadata": {},
   "source": [
    "Carregando a base de dados com os tweets classificados como relevantes e não relevantes:"
   ]
  },
  {
   "cell_type": "code",
   "execution_count": 3,
   "metadata": {},
   "outputs": [],
   "source": [
    "filename = 'WandaVision.xlsx'"
   ]
  },
  {
   "cell_type": "code",
   "execution_count": 4,
   "metadata": {},
   "outputs": [
    {
     "data": {
      "text/html": [
       "<div>\n",
       "<style scoped>\n",
       "    .dataframe tbody tr th:only-of-type {\n",
       "        vertical-align: middle;\n",
       "    }\n",
       "\n",
       "    .dataframe tbody tr th {\n",
       "        vertical-align: top;\n",
       "    }\n",
       "\n",
       "    .dataframe thead th {\n",
       "        text-align: right;\n",
       "    }\n",
       "</style>\n",
       "<table border=\"1\" class=\"dataframe\">\n",
       "  <thead>\n",
       "    <tr style=\"text-align: right;\">\n",
       "      <th></th>\n",
       "      <th>Treinamento</th>\n",
       "      <th>Relevancia</th>\n",
       "    </tr>\n",
       "  </thead>\n",
       "  <tbody>\n",
       "    <tr>\n",
       "      <th>0</th>\n",
       "      <td>#wandavision o 8 episódio dá muito susto kkkkk...</td>\n",
       "      <td>1</td>\n",
       "    </tr>\n",
       "    <tr>\n",
       "      <th>1</th>\n",
       "      <td>@_casthr assim, não tô esperando nada, pq eu d...</td>\n",
       "      <td>1</td>\n",
       "    </tr>\n",
       "    <tr>\n",
       "      <th>2</th>\n",
       "      <td>@_casthr li que o diretor disse que será total...</td>\n",
       "      <td>0</td>\n",
       "    </tr>\n",
       "    <tr>\n",
       "      <th>3</th>\n",
       "      <td>#@_mbheart foi aqui \\n\\nhttps://t.co/gg4lulxgqf</td>\n",
       "      <td>0</td>\n",
       "    </tr>\n",
       "    <tr>\n",
       "      <th>4</th>\n",
       "      <td>@_pedrolopss dark e wandavision, até pq são as...</td>\n",
       "      <td>1</td>\n",
       "    </tr>\n",
       "  </tbody>\n",
       "</table>\n",
       "</div>"
      ],
      "text/plain": [
       "                                         Treinamento  Relevancia\n",
       "0  #wandavision o 8 episódio dá muito susto kkkkk...           1\n",
       "1  @_casthr assim, não tô esperando nada, pq eu d...           1\n",
       "2  @_casthr li que o diretor disse que será total...           0\n",
       "3    #@_mbheart foi aqui \\n\\nhttps://t.co/gg4lulxgqf           0\n",
       "4  @_pedrolopss dark e wandavision, até pq são as...           1"
      ]
     },
     "execution_count": 4,
     "metadata": {},
     "output_type": "execute_result"
    }
   ],
   "source": [
    "train = pd.read_excel(filename)\n",
    "train.head(5)"
   ]
  },
  {
   "cell_type": "code",
   "execution_count": 5,
   "metadata": {
    "scrolled": true
   },
   "outputs": [
    {
     "data": {
      "text/html": [
       "<div>\n",
       "<style scoped>\n",
       "    .dataframe tbody tr th:only-of-type {\n",
       "        vertical-align: middle;\n",
       "    }\n",
       "\n",
       "    .dataframe tbody tr th {\n",
       "        vertical-align: top;\n",
       "    }\n",
       "\n",
       "    .dataframe thead th {\n",
       "        text-align: right;\n",
       "    }\n",
       "</style>\n",
       "<table border=\"1\" class=\"dataframe\">\n",
       "  <thead>\n",
       "    <tr style=\"text-align: right;\">\n",
       "      <th></th>\n",
       "      <th>Teste</th>\n",
       "      <th>Relevancia</th>\n",
       "    </tr>\n",
       "  </thead>\n",
       "  <tbody>\n",
       "    <tr>\n",
       "      <th>0</th>\n",
       "      <td>\"meninos, cuidem dos militares! a mamãe já vai...</td>\n",
       "      <td>0</td>\n",
       "    </tr>\n",
       "    <tr>\n",
       "      <th>1</th>\n",
       "      <td>\"wandavision\" é maravilhosa, gostaria muito de...</td>\n",
       "      <td>1</td>\n",
       "    </tr>\n",
       "    <tr>\n",
       "      <th>2</th>\n",
       "      <td>#wandavision já acabou😔mas amanhã tem #thefalc...</td>\n",
       "      <td>1</td>\n",
       "    </tr>\n",
       "    <tr>\n",
       "      <th>3</th>\n",
       "      <td>@_entao_ hahaha siiim! bem atualizado assisti ...</td>\n",
       "      <td>0</td>\n",
       "    </tr>\n",
       "    <tr>\n",
       "      <th>4</th>\n",
       "      <td>@_pedrolopss sério hehehe? as que eu nunca vi ...</td>\n",
       "      <td>1</td>\n",
       "    </tr>\n",
       "  </tbody>\n",
       "</table>\n",
       "</div>"
      ],
      "text/plain": [
       "                                               Teste  Relevancia\n",
       "0  \"meninos, cuidem dos militares! a mamãe já vai...           0\n",
       "1  \"wandavision\" é maravilhosa, gostaria muito de...           1\n",
       "2  #wandavision já acabou😔mas amanhã tem #thefalc...           1\n",
       "3  @_entao_ hahaha siiim! bem atualizado assisti ...           0\n",
       "4  @_pedrolopss sério hehehe? as que eu nunca vi ...           1"
      ]
     },
     "execution_count": 5,
     "metadata": {},
     "output_type": "execute_result"
    }
   ],
   "source": [
    "test = pd.read_excel(filename, sheet_name = 'Teste')\n",
    "test.head(5)"
   ]
  },
  {
   "cell_type": "markdown",
   "metadata": {},
   "source": [
    "___\n",
    "## Classificador automático de sentimento\n"
   ]
  },
  {
   "cell_type": "markdown",
   "metadata": {},
   "source": [
    "Faça aqui uma descrição do seu produto e o que considerou como relevante ou não relevante na classificação dos tweets.\n",
    "\n",
    "#### Escolhemos como produto a série de tv WandaVision, uma série da Marvel com a Disney Plus.  \n",
    "### Sinopse: \n",
    "  Situada três semanas após os eventos de Vingadores: Ultimato (2019), Wanda Maximoff e Visão estão vivendo uma vida suburbana idílica na cidade de Westview, no estado de New Jersey, tentando esconder suas verdadeiras identidades. À medida que começam a entrar nas novas décadas, o casal suspeita que as coisas não são o que parecem.(Wikipedia)  \n",
    "### Classificação:  \n",
    "* Classificamos se o tweet se expressa uma opinião sobre a série ou fala de elementos dela."
   ]
  },
  {
   "cell_type": "markdown",
   "metadata": {},
   "source": [
    "___\n",
    "### Montando um Classificador Naive-Bayes\n",
    "\n",
    "Considerando apenas as mensagens da planilha Treinamento, ensine  seu classificador."
   ]
  },
  {
   "cell_type": "code",
   "execution_count": 6,
   "metadata": {},
   "outputs": [],
   "source": [
    "import re\n",
    "import emoji\n",
    "import functools\n",
    "import operator\n",
    "def cleanup(text):\n",
    "    \"\"\"\n",
    "        Função de limpeza muito simples que troca alguns sinais básicos por espaços\n",
    "    \"\"\"\n",
    "    #import string\n",
    "    punctuation = '[-|><!,-.:#?;\"\"“”\\[\\]()\\\\n]' # Note que os sinais [] são delimitadores de um conjunto.\n",
    "    pattern = re.compile(punctuation)\n",
    "    text_subbed = re.sub(pattern, '', text)\n",
    "    return text_subbed"
   ]
  },
  {
   "cell_type": "code",
   "execution_count": 7,
   "metadata": {},
   "outputs": [],
   "source": [
    "# Limpeza das mensagens relevantes\n",
    "texto_relevante = ' '.join(train.loc[train.Relevancia == 1, 'Treinamento'])\n",
    "# Limpeza dos caracteres\n",
    "texto_relevante = cleanup(texto_relevante.lower())\n",
    "# Tira links dos tweets\n",
    "texto_relevante = ' '.join(item for item in texto_relevante.split() if not (item.startswith('https//')))\n",
    "# Corrige os espaços dos emojis\n",
    "relevante_split_emoji = emoji.get_emoji_regexp().split(texto_relevante)\n",
    "relevante_split_whitespace = [substr.split() for substr in relevante_split_emoji]\n",
    "relevante_split = functools.reduce(operator.concat, relevante_split_whitespace)\n",
    "texto_relevante = ' '.join(relevante_split)"
   ]
  },
  {
   "cell_type": "code",
   "execution_count": 23,
   "metadata": {},
   "outputs": [
    {
     "data": {
      "text/plain": [
       "0       wandavision\n",
       "1                 o\n",
       "2                 8\n",
       "3          episódio\n",
       "4                dá\n",
       "           ...     \n",
       "2192        lembrei\n",
       "2193             oq\n",
       "2194       acontece\n",
       "2195             no\n",
       "2196          final\n",
       "Length: 2197, dtype: object"
      ]
     },
     "execution_count": 23,
     "metadata": {},
     "output_type": "execute_result"
    }
   ],
   "source": [
    "# Serie relevante e tabela relativa relevante\n",
    "serie_relevante = pd.Series(texto_relevante.split())\n",
    "tabela_relativa_relevante = serie_relevante.value_counts(True)\n",
    "tabela_relativa_relevante"
   ]
  },
  {
   "cell_type": "code",
   "execution_count": 9,
   "metadata": {},
   "outputs": [],
   "source": [
    "# Limpeza das mensagens irrelevantes.\n",
    "texto_irrelevante = ' '.join(train.loc[train.Relevancia == 0, 'Treinamento'])\n",
    "# Limpeza dos caracteres\n",
    "texto_irrelevante = cleanup(texto_irrelevante.lower())\n",
    "# Tira links dos tweets\n",
    "texto_irrelevante = ' '.join(item for item in texto_irrelevante.split() if not (item.startswith('https//')))\n",
    "# Corrige os espaços dos emojis\n",
    "irrelevante_split_emoji = emoji.get_emoji_regexp().split(texto_irrelevante)\n",
    "irrelevante_split_whitespace = [substr.split() for substr in irrelevante_split_emoji]\n",
    "irrelevante_split = functools.reduce(operator.concat, irrelevante_split_whitespace)\n",
    "texto_irrelevante = ' '.join(irrelevante_split)"
   ]
  },
  {
   "cell_type": "code",
   "execution_count": 10,
   "metadata": {},
   "outputs": [],
   "source": [
    "# Tabela de frequencias das mensagens irrelevantes.\n",
    "serie_irrelevante = pd.Series(texto_irrelevante.split())\n",
    "tabela_relativa_irrelevante = serie_irrelevante.value_counts(True)"
   ]
  },
  {
   "cell_type": "code",
   "execution_count": 11,
   "metadata": {
    "scrolled": true
   },
   "outputs": [
    {
     "data": {
      "text/plain": [
       "wandavision       0.055035\n",
       "de                0.033568\n",
       "que               0.029469\n",
       "e                 0.025176\n",
       "o                 0.024590\n",
       "                    ...   \n",
       "making            0.000195\n",
       "castboxpodcast    0.000195\n",
       "sonhei            0.000195\n",
       "resolução         0.000195\n",
       "trabalhos         0.000195\n",
       "Length: 1638, dtype: float64"
      ]
     },
     "execution_count": 11,
     "metadata": {},
     "output_type": "execute_result"
    }
   ],
   "source": [
    "# Fazendo o total.\n",
    "todas_mensagens = texto_relevante + texto_irrelevante\n",
    "serie_todas_mensagens = pd.Series(todas_mensagens.split())\n",
    "tabela_relativa_todas_mensagens = serie_todas_mensagens.value_counts(True)\n",
    "tabela_relativa_todas_mensagens"
   ]
  },
  {
   "cell_type": "code",
   "execution_count": 50,
   "metadata": {},
   "outputs": [],
   "source": [
    "# Probabilidades de irrelevante e relevante\n",
    "ProbR = len(serie_relevante)/len(serie_todas_mensagens)\n",
    "ProbIR = len(serie_irrelevante)/len(serie_todas_mensagens)"
   ]
  },
  {
   "cell_type": "code",
   "execution_count": 45,
   "metadata": {},
   "outputs": [],
   "source": [
    "# \n",
    "def classifica_tweet(tweet):\n",
    "    tweet = limpeza(tweet)\n",
    "    prob_tweet_dado_relevante, prob_tweet_dado_irrelevante = 1, 1\n",
    "    for palavra in tweet.split():\n",
    "        if palavra in tabela_relativa_relevante:\n",
    "            prob_tweet_dado_relevante *= (tabela_relativa_relevante[palavra]*len(serie_relevante) + 1)/(len(serie_relevante) + len(tabela_relativa_todas_mensagens))\n",
    "        else:\n",
    "            prob_tweet_dado_relevante *= (1)/(len(serie_relevante) + len(tabela_relativa_todas_mensagens))\n",
    "        if palavra in tabela_relativa_irrelevante:\n",
    "            prob_tweet_dado_irrelevante *= (tabela_relativa_irrelevante[palavra]*len(serie_irrelevante) + 1)/(len(serie_irrelevante) + len(tabela_relativa_todas_mensagens))\n",
    "        else:\n",
    "            prob_tweet_dado_irrelevante *= (1)/(len(serie_irrelevante) + len(tabela_relativa_todas_mensagens))\n",
    "    prob_relevante_dado_tweet = prob_tweet_dado_relevante * ProbR\n",
    "    prob_irrelevante_dado_tweet = prob_tweet_dado_irrelevante * ProbIR\n",
    "    return 1 if prob_relevante_dado_tweet > prob_irrelevante_dado_tweet else 0    "
   ]
  },
  {
   "cell_type": "code",
   "execution_count": 46,
   "metadata": {},
   "outputs": [],
   "source": [
    "def limpeza(tweets):\n",
    "    tweets = cleanup(tweets.lower())\n",
    "    tweets = ' '.join(item for item in tweets.split() if not (item.startswith('https//')))\n",
    "    split_emoji = emoji.get_emoji_regexp().split(tweets)\n",
    "    split_whitespace = [substr.split() for substr in split_emoji]\n",
    "    split = functools.reduce(operator.concat, split_whitespace)\n",
    "    tweets = ' '.join(split)\n",
    "    return tweets"
   ]
  },
  {
   "cell_type": "code",
   "execution_count": null,
   "metadata": {},
   "outputs": [],
   "source": []
  },
  {
   "cell_type": "markdown",
   "metadata": {},
   "source": [
    "___\n",
    "### Verificando a performance do Classificador\n",
    "\n",
    "Agora você deve testar o seu classificador com a base de Testes."
   ]
  },
  {
   "cell_type": "code",
   "execution_count": 47,
   "metadata": {},
   "outputs": [],
   "source": [
    "test['classificado'] = test['Teste'].apply(classifica_tweet)"
   ]
  },
  {
   "cell_type": "code",
   "execution_count": 48,
   "metadata": {},
   "outputs": [
    {
     "data": {
      "text/html": [
       "<div>\n",
       "<style scoped>\n",
       "    .dataframe tbody tr th:only-of-type {\n",
       "        vertical-align: middle;\n",
       "    }\n",
       "\n",
       "    .dataframe tbody tr th {\n",
       "        vertical-align: top;\n",
       "    }\n",
       "\n",
       "    .dataframe thead th {\n",
       "        text-align: right;\n",
       "    }\n",
       "</style>\n",
       "<table border=\"1\" class=\"dataframe\">\n",
       "  <thead>\n",
       "    <tr style=\"text-align: right;\">\n",
       "      <th></th>\n",
       "      <th>Teste</th>\n",
       "      <th>Relevancia</th>\n",
       "      <th>classificado</th>\n",
       "    </tr>\n",
       "  </thead>\n",
       "  <tbody>\n",
       "    <tr>\n",
       "      <th>0</th>\n",
       "      <td>\"meninos, cuidem dos militares! a mamãe já vai...</td>\n",
       "      <td>0</td>\n",
       "      <td>1</td>\n",
       "    </tr>\n",
       "    <tr>\n",
       "      <th>1</th>\n",
       "      <td>\"wandavision\" é maravilhosa, gostaria muito de...</td>\n",
       "      <td>1</td>\n",
       "      <td>1</td>\n",
       "    </tr>\n",
       "    <tr>\n",
       "      <th>2</th>\n",
       "      <td>#wandavision já acabou😔mas amanhã tem #thefalc...</td>\n",
       "      <td>1</td>\n",
       "      <td>1</td>\n",
       "    </tr>\n",
       "    <tr>\n",
       "      <th>3</th>\n",
       "      <td>@_entao_ hahaha siiim! bem atualizado assisti ...</td>\n",
       "      <td>0</td>\n",
       "      <td>1</td>\n",
       "    </tr>\n",
       "    <tr>\n",
       "      <th>4</th>\n",
       "      <td>@_pedrolopss sério hehehe? as que eu nunca vi ...</td>\n",
       "      <td>1</td>\n",
       "      <td>1</td>\n",
       "    </tr>\n",
       "    <tr>\n",
       "      <th>...</th>\n",
       "      <td>...</td>\n",
       "      <td>...</td>\n",
       "      <td>...</td>\n",
       "    </tr>\n",
       "    <tr>\n",
       "      <th>195</th>\n",
       "      <td>wandavision poderia ser interessante do começo...</td>\n",
       "      <td>1</td>\n",
       "      <td>0</td>\n",
       "    </tr>\n",
       "    <tr>\n",
       "      <th>196</th>\n",
       "      <td>wandavision se chama assim pq fala da wanda e ...</td>\n",
       "      <td>1</td>\n",
       "      <td>0</td>\n",
       "    </tr>\n",
       "    <tr>\n",
       "      <th>197</th>\n",
       "      <td>wandavision tem uma sacada muito boa!!!!! que ...</td>\n",
       "      <td>1</td>\n",
       "      <td>1</td>\n",
       "    </tr>\n",
       "    <tr>\n",
       "      <th>198</th>\n",
       "      <td>wandavision tem umas parte ruim das lembranças</td>\n",
       "      <td>1</td>\n",
       "      <td>1</td>\n",
       "    </tr>\n",
       "    <tr>\n",
       "      <th>199</th>\n",
       "      <td>wandavision\\n★★★★★\\n\\nque inferno eu tô choran...</td>\n",
       "      <td>1</td>\n",
       "      <td>1</td>\n",
       "    </tr>\n",
       "  </tbody>\n",
       "</table>\n",
       "<p>200 rows × 3 columns</p>\n",
       "</div>"
      ],
      "text/plain": [
       "                                                 Teste  Relevancia  \\\n",
       "0    \"meninos, cuidem dos militares! a mamãe já vai...           0   \n",
       "1    \"wandavision\" é maravilhosa, gostaria muito de...           1   \n",
       "2    #wandavision já acabou😔mas amanhã tem #thefalc...           1   \n",
       "3    @_entao_ hahaha siiim! bem atualizado assisti ...           0   \n",
       "4    @_pedrolopss sério hehehe? as que eu nunca vi ...           1   \n",
       "..                                                 ...         ...   \n",
       "195  wandavision poderia ser interessante do começo...           1   \n",
       "196  wandavision se chama assim pq fala da wanda e ...           1   \n",
       "197  wandavision tem uma sacada muito boa!!!!! que ...           1   \n",
       "198     wandavision tem umas parte ruim das lembranças           1   \n",
       "199  wandavision\\n★★★★★\\n\\nque inferno eu tô choran...           1   \n",
       "\n",
       "     classificado  \n",
       "0               1  \n",
       "1               1  \n",
       "2               1  \n",
       "3               1  \n",
       "4               1  \n",
       "..            ...  \n",
       "195             0  \n",
       "196             0  \n",
       "197             1  \n",
       "198             1  \n",
       "199             1  \n",
       "\n",
       "[200 rows x 3 columns]"
      ]
     },
     "execution_count": 48,
     "metadata": {},
     "output_type": "execute_result"
    }
   ],
   "source": [
    "test"
   ]
  },
  {
   "cell_type": "code",
   "execution_count": null,
   "metadata": {},
   "outputs": [],
   "source": []
  },
  {
   "cell_type": "markdown",
   "metadata": {},
   "source": [
    "___\n",
    "### Concluindo"
   ]
  },
  {
   "cell_type": "code",
   "execution_count": null,
   "metadata": {},
   "outputs": [],
   "source": []
  },
  {
   "cell_type": "code",
   "execution_count": null,
   "metadata": {},
   "outputs": [],
   "source": []
  },
  {
   "cell_type": "code",
   "execution_count": null,
   "metadata": {},
   "outputs": [],
   "source": []
  },
  {
   "cell_type": "markdown",
   "metadata": {},
   "source": [
    "___\n",
    "### Qualidade do Classificador a partir de novas separações dos tweets entre Treinamento e Teste\n",
    "\n",
    "Caso for fazer esse item do Projeto"
   ]
  },
  {
   "cell_type": "code",
   "execution_count": null,
   "metadata": {},
   "outputs": [],
   "source": []
  },
  {
   "cell_type": "code",
   "execution_count": null,
   "metadata": {},
   "outputs": [],
   "source": []
  },
  {
   "cell_type": "code",
   "execution_count": null,
   "metadata": {},
   "outputs": [],
   "source": []
  },
  {
   "cell_type": "markdown",
   "metadata": {},
   "source": [
    "___\n",
    "## Aperfeiçoamento:\n",
    "\n",
    "Os trabalhos vão evoluir em conceito dependendo da quantidade de itens avançados:\n",
    "\n",
    "* Limpar: \\n, :, \", ', (, ), etc SEM remover emojis\n",
    "* Corrigir separação de espaços entre palavras e emojis ou entre emojis e emojis\n",
    "* Propor outras limpezas e transformações que não afetem a qualidade da informação ou classificação\n",
    "* Criar categorias intermediárias de relevância baseadas na probabilidade: ex.: muito relevante, relevante, neutro, irrelevante, muito irrelevante (3 categorias: C, mais categorias conta para B)\n",
    "* Explicar por que não posso usar o próprio classificador para gerar mais amostras de treinamento\n",
    "* Propor diferentes cenários para Naïve Bayes fora do contexto do projeto\n",
    "* Sugerir e explicar melhorias reais com indicações concretas de como implementar (indicar como fazer e indicar material de pesquisa)\n"
   ]
  },
  {
   "cell_type": "markdown",
   "metadata": {},
   "source": [
    "___\n",
    "## Referências"
   ]
  },
  {
   "cell_type": "markdown",
   "metadata": {},
   "source": [
    "[Naive Bayes and Text Classification](https://arxiv.org/pdf/1410.5329.pdf)  **Mais completo**\n",
    "\n",
    "[A practical explanation of a Naive Bayes Classifier](https://monkeylearn.com/blog/practical-explanation-naive-bayes-classifier/) **Mais simples**"
   ]
  },
  {
   "cell_type": "code",
   "execution_count": null,
   "metadata": {},
   "outputs": [],
   "source": []
  }
 ],
 "metadata": {
  "kernelspec": {
   "display_name": "Python 3",
   "language": "python",
   "name": "python3"
  },
  "language_info": {
   "codemirror_mode": {
    "name": "ipython",
    "version": 3
   },
   "file_extension": ".py",
   "mimetype": "text/x-python",
   "name": "python",
   "nbconvert_exporter": "python",
   "pygments_lexer": "ipython3",
   "version": "3.8.3"
  }
 },
 "nbformat": 4,
 "nbformat_minor": 4
}
