{
 "cells": [
  {
   "cell_type": "markdown",
   "metadata": {},
   "source": [
    "# Projeto 1 - Ciência dos Dados"
   ]
  },
  {
   "cell_type": "markdown",
   "metadata": {},
   "source": [
    "Nome: Ricardo Ribeiro Rodrigues \n",
    "\n",
    "Nome: Guilherme da Franca Silva Escobar"
   ]
  },
  {
   "cell_type": "markdown",
   "metadata": {},
   "source": [
    "Atenção: Serão permitidos grupos de três pessoas, mas com uma rubrica mais exigente. Grupos deste tamanho precisarão fazer um questionário de avaliação de trabalho em equipe"
   ]
  },
  {
   "cell_type": "markdown",
   "metadata": {},
   "source": [
    "___\n",
    "Carregando algumas bibliotecas:"
   ]
  },
  {
   "cell_type": "code",
   "execution_count": 53,
   "metadata": {},
   "outputs": [],
   "source": [
    "%matplotlib inline\n",
    "import pandas as pd\n",
    "import matplotlib.pyplot as plt\n",
    "import numpy as np\n",
    "import os"
   ]
  },
  {
   "cell_type": "code",
   "execution_count": 54,
   "metadata": {
    "scrolled": false
   },
   "outputs": [
    {
     "name": "stdout",
     "output_type": "stream",
     "text": [
      "Esperamos trabalhar no diretório\n",
      "C:\\Users\\riywa\\Desktop\\Ciencia_de_dados\\Projeto1-CDados\n"
     ]
    }
   ],
   "source": [
    "print('Esperamos trabalhar no diretório')\n",
    "print(os.getcwd())"
   ]
  },
  {
   "cell_type": "markdown",
   "metadata": {},
   "source": [
    "Carregando a base de dados com os tweets classificados como relevantes e não relevantes:"
   ]
  },
  {
   "cell_type": "code",
   "execution_count": 55,
   "metadata": {},
   "outputs": [],
   "source": [
    "filename = 'WandaVision.xlsx'"
   ]
  },
  {
   "cell_type": "code",
   "execution_count": 56,
   "metadata": {},
   "outputs": [
    {
     "data": {
      "text/html": [
       "<div>\n",
       "<style scoped>\n",
       "    .dataframe tbody tr th:only-of-type {\n",
       "        vertical-align: middle;\n",
       "    }\n",
       "\n",
       "    .dataframe tbody tr th {\n",
       "        vertical-align: top;\n",
       "    }\n",
       "\n",
       "    .dataframe thead th {\n",
       "        text-align: right;\n",
       "    }\n",
       "</style>\n",
       "<table border=\"1\" class=\"dataframe\">\n",
       "  <thead>\n",
       "    <tr style=\"text-align: right;\">\n",
       "      <th></th>\n",
       "      <th>Treinamento</th>\n",
       "      <th>Relevancia</th>\n",
       "    </tr>\n",
       "  </thead>\n",
       "  <tbody>\n",
       "    <tr>\n",
       "      <th>0</th>\n",
       "      <td>#wandavision o 8 episódio dá muito susto kkkkk...</td>\n",
       "      <td>1</td>\n",
       "    </tr>\n",
       "    <tr>\n",
       "      <th>1</th>\n",
       "      <td>@_casthr assim, não tô esperando nada, pq eu d...</td>\n",
       "      <td>1</td>\n",
       "    </tr>\n",
       "    <tr>\n",
       "      <th>2</th>\n",
       "      <td>@_casthr li que o diretor disse que será total...</td>\n",
       "      <td>0</td>\n",
       "    </tr>\n",
       "    <tr>\n",
       "      <th>3</th>\n",
       "      <td>#@_mbheart foi aqui \\n\\nhttps://t.co/gg4lulxgqf</td>\n",
       "      <td>0</td>\n",
       "    </tr>\n",
       "    <tr>\n",
       "      <th>4</th>\n",
       "      <td>@_pedrolopss dark e wandavision, até pq são as...</td>\n",
       "      <td>1</td>\n",
       "    </tr>\n",
       "  </tbody>\n",
       "</table>\n",
       "</div>"
      ],
      "text/plain": [
       "                                         Treinamento  Relevancia\n",
       "0  #wandavision o 8 episódio dá muito susto kkkkk...           1\n",
       "1  @_casthr assim, não tô esperando nada, pq eu d...           1\n",
       "2  @_casthr li que o diretor disse que será total...           0\n",
       "3    #@_mbheart foi aqui \\n\\nhttps://t.co/gg4lulxgqf           0\n",
       "4  @_pedrolopss dark e wandavision, até pq são as...           1"
      ]
     },
     "execution_count": 56,
     "metadata": {},
     "output_type": "execute_result"
    }
   ],
   "source": [
    "train = pd.read_excel(filename)\n",
    "train.head(5)"
   ]
  },
  {
   "cell_type": "code",
   "execution_count": 57,
   "metadata": {
    "scrolled": true
   },
   "outputs": [
    {
     "data": {
      "text/html": [
       "<div>\n",
       "<style scoped>\n",
       "    .dataframe tbody tr th:only-of-type {\n",
       "        vertical-align: middle;\n",
       "    }\n",
       "\n",
       "    .dataframe tbody tr th {\n",
       "        vertical-align: top;\n",
       "    }\n",
       "\n",
       "    .dataframe thead th {\n",
       "        text-align: right;\n",
       "    }\n",
       "</style>\n",
       "<table border=\"1\" class=\"dataframe\">\n",
       "  <thead>\n",
       "    <tr style=\"text-align: right;\">\n",
       "      <th></th>\n",
       "      <th>Teste</th>\n",
       "      <th>Relevancia</th>\n",
       "    </tr>\n",
       "  </thead>\n",
       "  <tbody>\n",
       "    <tr>\n",
       "      <th>0</th>\n",
       "      <td>\"meninos, cuidem dos militares! a mamãe já vai...</td>\n",
       "      <td>0</td>\n",
       "    </tr>\n",
       "    <tr>\n",
       "      <th>1</th>\n",
       "      <td>\"wandavision\" é maravilhosa, gostaria muito de...</td>\n",
       "      <td>1</td>\n",
       "    </tr>\n",
       "    <tr>\n",
       "      <th>2</th>\n",
       "      <td>#wandavision já acabou😔mas amanhã tem #thefalc...</td>\n",
       "      <td>1</td>\n",
       "    </tr>\n",
       "    <tr>\n",
       "      <th>3</th>\n",
       "      <td>@_entao_ hahaha siiim! bem atualizado assisti ...</td>\n",
       "      <td>0</td>\n",
       "    </tr>\n",
       "    <tr>\n",
       "      <th>4</th>\n",
       "      <td>@_pedrolopss sério hehehe? as que eu nunca vi ...</td>\n",
       "      <td>1</td>\n",
       "    </tr>\n",
       "  </tbody>\n",
       "</table>\n",
       "</div>"
      ],
      "text/plain": [
       "                                               Teste  Relevancia\n",
       "0  \"meninos, cuidem dos militares! a mamãe já vai...           0\n",
       "1  \"wandavision\" é maravilhosa, gostaria muito de...           1\n",
       "2  #wandavision já acabou😔mas amanhã tem #thefalc...           1\n",
       "3  @_entao_ hahaha siiim! bem atualizado assisti ...           0\n",
       "4  @_pedrolopss sério hehehe? as que eu nunca vi ...           1"
      ]
     },
     "execution_count": 57,
     "metadata": {},
     "output_type": "execute_result"
    }
   ],
   "source": [
    "test = pd.read_excel(filename, sheet_name = 'Teste')\n",
    "test.head(5)"
   ]
  },
  {
   "cell_type": "markdown",
   "metadata": {},
   "source": [
    "___\n",
    "## Classificador automático de sentimento\n"
   ]
  },
  {
   "cell_type": "markdown",
   "metadata": {},
   "source": [
    "Faça aqui uma descrição do seu produto e o que considerou como relevante ou não relevante na classificação dos tweets.\n",
    "\n",
    "#### Escolhemos como produto a série de tv WandaVision, uma série da Marvel com a Disney Plus.  \n",
    "### Sinopse: \n",
    "  Situada três semanas após os eventos de Vingadores: Ultimato (2019), Wanda Maximoff e Visão estão vivendo uma vida suburbana idílica na cidade de Westview, no estado de New Jersey, tentando esconder suas verdadeiras identidades. À medida que começam a entrar nas novas décadas, o casal suspeita que as coisas não são o que parecem.(Wikipedia)  \n",
    "### Classificação:  \n",
    "* Classificamos se o tweet se expressa uma opinião sobre a série ou fala de elementos dela."
   ]
  },
  {
   "cell_type": "markdown",
   "metadata": {},
   "source": [
    "___\n",
    "### Montando um Classificador Naive-Bayes\n",
    "\n",
    "Considerando apenas as mensagens da planilha Treinamento, ensine  seu classificador."
   ]
  },
  {
   "cell_type": "code",
   "execution_count": 58,
   "metadata": {},
   "outputs": [],
   "source": [
    "import re\n",
    "import emoji\n",
    "import functools\n",
    "import operator\n",
    "def cleanup(text):\n",
    "    \"\"\"\n",
    "        Função de limpeza muito simples que troca alguns sinais básicos por espaços\n",
    "    \"\"\"\n",
    "    #import string\n",
    "    punctuation = '[-|><!,-.:#?;\"\"“”\\[\\]()''\\\\n]' # Note que os sinais [] são delimitadores de um conjunto.\n",
    "    pattern = re.compile(punctuation)\n",
    "    text_subbed = re.sub(pattern, '', text)\n",
    "    return text_subbed"
   ]
  },
  {
   "cell_type": "code",
   "execution_count": 59,
   "metadata": {},
   "outputs": [],
   "source": [
    "# Limpeza das mensagens relevantes\n",
    "texto_relevante = ' '.join(train.loc[train.Relevancia == 1, 'Treinamento'])\n",
    "# Limpeza dos caracteres\n",
    "texto_relevante = cleanup(texto_relevante.lower())\n",
    "# Tira links dos tweets\n",
    "texto_relevante = ' '.join(item for item in texto_relevante.split() if not (item.startswith('https//')))\n",
    "# Corrige os espaços dos emojis\n",
    "relevante_split_emoji = emoji.get_emoji_regexp().split(texto_relevante)\n",
    "relevante_split_whitespace = [substr.split() for substr in relevante_split_emoji]\n",
    "relevante_split = functools.reduce(operator.concat, relevante_split_whitespace)\n",
    "texto_relevante = ' '.join(relevante_split)"
   ]
  },
  {
   "cell_type": "code",
   "execution_count": 60,
   "metadata": {},
   "outputs": [
    {
     "data": {
      "text/plain": [
       "wandavision    0.060992\n",
       "de             0.033227\n",
       "que            0.032772\n",
       "a              0.030041\n",
       "e              0.020938\n",
       "                 ...   \n",
       "@omelete       0.000455\n",
       "esclarecer     0.000455\n",
       "neuronios      0.000455\n",
       "veem           0.000455\n",
       "fazerem        0.000455\n",
       "Length: 821, dtype: float64"
      ]
     },
     "execution_count": 60,
     "metadata": {},
     "output_type": "execute_result"
    }
   ],
   "source": [
    "# Serie relevante e tabela relativa relevante\n",
    "serie_relevante = pd.Series(texto_relevante.split())\n",
    "tabela_relativa_relevante = serie_relevante.value_counts(True)\n",
    "tabela_relativa_relevante"
   ]
  },
  {
   "cell_type": "code",
   "execution_count": 61,
   "metadata": {},
   "outputs": [],
   "source": [
    "# Limpeza das mensagens irrelevantes.\n",
    "texto_irrelevante = ' '.join(train.loc[train.Relevancia == 0, 'Treinamento'])\n",
    "# Limpeza dos caracteres\n",
    "texto_irrelevante = cleanup(texto_irrelevante.lower())\n",
    "# Tira links dos tweets\n",
    "texto_irrelevante = ' '.join(item for item in texto_irrelevante.split() if not (item.startswith('https//')))\n",
    "# Corrige os espaços dos emojis\n",
    "irrelevante_split_emoji = emoji.get_emoji_regexp().split(texto_irrelevante)\n",
    "irrelevante_split_whitespace = [substr.split() for substr in irrelevante_split_emoji]\n",
    "irrelevante_split = functools.reduce(operator.concat, irrelevante_split_whitespace)\n",
    "texto_irrelevante = ' '.join(irrelevante_split)"
   ]
  },
  {
   "cell_type": "markdown",
   "metadata": {},
   "source": [
    "## Limpeza dos links\n",
    "Nos decidimos por fazer uma limpeza dos links contidos nos tweets, visto que eles não contribuíam para a classificação (estão igualmente presentes em relevante e irrelevante) e apenas poluíam as bases de dados."
   ]
  },
  {
   "cell_type": "code",
   "execution_count": 62,
   "metadata": {},
   "outputs": [],
   "source": [
    "# Tabela de frequencias das mensagens irrelevantes.\n",
    "serie_irrelevante = pd.Series(texto_irrelevante.split())\n",
    "tabela_relativa_irrelevante = serie_irrelevante.value_counts(True)"
   ]
  },
  {
   "cell_type": "code",
   "execution_count": 63,
   "metadata": {
    "scrolled": true
   },
   "outputs": [
    {
     "data": {
      "text/plain": [
       "wandavision    0.055035\n",
       "de             0.033568\n",
       "que            0.029469\n",
       "e              0.025176\n",
       "o              0.024590\n",
       "                 ...   \n",
       "odiava         0.000195\n",
       "amou           0.000195\n",
       "is             0.000195\n",
       "popria         0.000195\n",
       "fazerem        0.000195\n",
       "Length: 1638, dtype: float64"
      ]
     },
     "execution_count": 63,
     "metadata": {},
     "output_type": "execute_result"
    }
   ],
   "source": [
    "# Fazendo o total.\n",
    "todas_mensagens = texto_relevante + texto_irrelevante\n",
    "serie_todas_mensagens = pd.Series(todas_mensagens.split())\n",
    "tabela_relativa_todas_mensagens = serie_todas_mensagens.value_counts(True)\n",
    "tabela_relativa_todas_mensagens"
   ]
  },
  {
   "cell_type": "code",
   "execution_count": 64,
   "metadata": {},
   "outputs": [],
   "source": [
    "# Probabilidades de irrelevante e relevante\n",
    "ProbR = len(serie_relevante)/len(serie_todas_mensagens)\n",
    "ProbIR = len(serie_irrelevante)/len(serie_todas_mensagens)"
   ]
  },
  {
   "cell_type": "code",
   "execution_count": 65,
   "metadata": {},
   "outputs": [],
   "source": [
    "# função da classificação dos tweets\n",
    "def classifica_tweet(tweet):\n",
    "    tweet = limpeza(tweet)\n",
    "    prob_tweet_dado_relevante, prob_tweet_dado_irrelevante = 1, 1\n",
    "    for palavra in tweet.split():\n",
    "        if palavra in tabela_relativa_relevante:\n",
    "            prob_tweet_dado_relevante *= (tabela_relativa_relevante[palavra]*len(serie_relevante) + 1)/(len(serie_relevante) + len(tabela_relativa_todas_mensagens))\n",
    "        else:\n",
    "            prob_tweet_dado_relevante *= (1)/(len(serie_relevante) + len(tabela_relativa_todas_mensagens))\n",
    "        if palavra in tabela_relativa_irrelevante:\n",
    "            prob_tweet_dado_irrelevante *= (tabela_relativa_irrelevante[palavra]*len(serie_irrelevante) + 1)/(len(serie_irrelevante) + len(tabela_relativa_todas_mensagens))\n",
    "        else:\n",
    "            prob_tweet_dado_irrelevante *= (1)/(len(serie_irrelevante) + len(tabela_relativa_todas_mensagens))\n",
    "    prob_relevante_dado_tweet = prob_tweet_dado_relevante * ProbR\n",
    "    prob_irrelevante_dado_tweet = prob_tweet_dado_irrelevante * ProbIR\n",
    "    return 1 if prob_relevante_dado_tweet > prob_irrelevante_dado_tweet else 0    "
   ]
  },
  {
   "cell_type": "code",
   "execution_count": 66,
   "metadata": {},
   "outputs": [],
   "source": [
    "# Função para limpeza dos tweets\n",
    "def limpeza(tweets):\n",
    "    tweets = cleanup(tweets.lower())\n",
    "    tweets = ' '.join(item for item in tweets.split() if not (item.startswith('https//')))\n",
    "    split_emoji = emoji.get_emoji_regexp().split(tweets)\n",
    "    split_whitespace = [substr.split() for substr in split_emoji]\n",
    "    split = functools.reduce(operator.concat, split_whitespace)\n",
    "    tweets = ' '.join(split)\n",
    "    return tweets"
   ]
  },
  {
   "cell_type": "markdown",
   "metadata": {},
   "source": [
    "___\n",
    "### Verificando a performance do Classificador\n",
    "\n",
    "Agora você deve testar o seu classificador com a base de Testes."
   ]
  },
  {
   "cell_type": "code",
   "execution_count": 67,
   "metadata": {},
   "outputs": [],
   "source": [
    "test['classificado'] = test['Teste'].apply(classifica_tweet)"
   ]
  },
  {
   "cell_type": "code",
   "execution_count": 68,
   "metadata": {
    "scrolled": true
   },
   "outputs": [
    {
     "data": {
      "text/html": [
       "<div>\n",
       "<style scoped>\n",
       "    .dataframe tbody tr th:only-of-type {\n",
       "        vertical-align: middle;\n",
       "    }\n",
       "\n",
       "    .dataframe tbody tr th {\n",
       "        vertical-align: top;\n",
       "    }\n",
       "\n",
       "    .dataframe thead th {\n",
       "        text-align: right;\n",
       "    }\n",
       "</style>\n",
       "<table border=\"1\" class=\"dataframe\">\n",
       "  <thead>\n",
       "    <tr style=\"text-align: right;\">\n",
       "      <th>classificado</th>\n",
       "      <th>0</th>\n",
       "      <th>1</th>\n",
       "    </tr>\n",
       "    <tr>\n",
       "      <th>Relevancia</th>\n",
       "      <th></th>\n",
       "      <th></th>\n",
       "    </tr>\n",
       "  </thead>\n",
       "  <tbody>\n",
       "    <tr>\n",
       "      <th>0</th>\n",
       "      <td>56.12</td>\n",
       "      <td>43.88</td>\n",
       "    </tr>\n",
       "    <tr>\n",
       "      <th>1</th>\n",
       "      <td>33.33</td>\n",
       "      <td>66.67</td>\n",
       "    </tr>\n",
       "    <tr>\n",
       "      <th>All</th>\n",
       "      <td>44.50</td>\n",
       "      <td>55.50</td>\n",
       "    </tr>\n",
       "  </tbody>\n",
       "</table>\n",
       "</div>"
      ],
      "text/plain": [
       "classificado      0      1\n",
       "Relevancia                \n",
       "0             56.12  43.88\n",
       "1             33.33  66.67\n",
       "All           44.50  55.50"
      ]
     },
     "execution_count": 68,
     "metadata": {},
     "output_type": "execute_result"
    }
   ],
   "source": [
    "pd.crosstab(test.Relevancia, test.classificado, margins=True, normalize='index').round(4)*100"
   ]
  },
  {
   "cell_type": "code",
   "execution_count": 69,
   "metadata": {},
   "outputs": [
    {
     "data": {
      "text/html": [
       "<div>\n",
       "<style scoped>\n",
       "    .dataframe tbody tr th:only-of-type {\n",
       "        vertical-align: middle;\n",
       "    }\n",
       "\n",
       "    .dataframe tbody tr th {\n",
       "        vertical-align: top;\n",
       "    }\n",
       "\n",
       "    .dataframe thead th {\n",
       "        text-align: right;\n",
       "    }\n",
       "</style>\n",
       "<table border=\"1\" class=\"dataframe\">\n",
       "  <thead>\n",
       "    <tr style=\"text-align: right;\">\n",
       "      <th>classificado</th>\n",
       "      <th>0</th>\n",
       "      <th>1</th>\n",
       "      <th>All</th>\n",
       "    </tr>\n",
       "    <tr>\n",
       "      <th>Relevancia</th>\n",
       "      <th></th>\n",
       "      <th></th>\n",
       "      <th></th>\n",
       "    </tr>\n",
       "  </thead>\n",
       "  <tbody>\n",
       "    <tr>\n",
       "      <th>0</th>\n",
       "      <td>27.5</td>\n",
       "      <td>21.5</td>\n",
       "      <td>49.0</td>\n",
       "    </tr>\n",
       "    <tr>\n",
       "      <th>1</th>\n",
       "      <td>17.0</td>\n",
       "      <td>34.0</td>\n",
       "      <td>51.0</td>\n",
       "    </tr>\n",
       "    <tr>\n",
       "      <th>All</th>\n",
       "      <td>44.5</td>\n",
       "      <td>55.5</td>\n",
       "      <td>100.0</td>\n",
       "    </tr>\n",
       "  </tbody>\n",
       "</table>\n",
       "</div>"
      ],
      "text/plain": [
       "classificado     0     1    All\n",
       "Relevancia                     \n",
       "0             27.5  21.5   49.0\n",
       "1             17.0  34.0   51.0\n",
       "All           44.5  55.5  100.0"
      ]
     },
     "execution_count": 69,
     "metadata": {},
     "output_type": "execute_result"
    }
   ],
   "source": [
    "pd.crosstab(test.Relevancia, test.classificado, normalize=True, margins=True)*100"
   ]
  },
  {
   "cell_type": "markdown",
   "metadata": {},
   "source": [
    "___\n",
    "### Concluindo"
   ]
  },
  {
   "cell_type": "markdown",
   "metadata": {},
   "source": [
    "### Comparativo qualitativo sobre os percentuais obtidos\n",
    "O classificador possui uma maior taxa de acerto nos verdadeiros positivos (66.67 %) do que nos verdadeiros negativos (56.12 %), possui também uma maior taxa de acerto total (61.5 %) do que de erro."
   ]
  },
  {
   "cell_type": "markdown",
   "metadata": {},
   "source": [
    "### Como são tratadas as mensagens com dupla negação e sarcasmo\n",
    "Como a probabilidade de ser relevante ou irrelevante é calculada com base no número de aparições de cada uma das palavras nos tweets relevantes ou irrelevantes, o sarcasmo ou a dupla negação pode propoiciar uma classificação incorreta, visto que uma palavra que aparece mais vezes nos relevantes pode ser usada num tweet irrelevante.   \n",
    "##### Por exemplo: Essa série é muito boa! SQN.    \n",
    "*  Para uma classificação onde os tweets que falam bem de dada série são classificados como relevantes e os que falam mal da série irrelevantes, essa frase com sarcasmo poderia levar o classificador a um erro, visto que a palavra boa deve aparecer mais vezes nos relevantes, fazendo com que essa frase fosse classificada como relevante, e sendo um erro."
   ]
  },
  {
   "cell_type": "markdown",
   "metadata": {},
   "source": [
    "### Plano de expansão\n",
    "Para uma futura expansão desse projeto, poderiamos englobar outras redes sociais para a coleta de feedback sobre a série, assim obtendo uma maior quantidade de feedback e sendo mais abrangente nessa coleta, poderíamos também trazer o classificador para outras séries e filmes."
   ]
  },
  {
   "cell_type": "markdown",
   "metadata": {},
   "source": [
    "### Por que não podemos alimentar nossa base de treinamento automaticamente usando o classificador.\n",
    "Não podemos alimentar nossa base de treinamento com o próprio classificador, pois além de ele cometer erros (38.5 de erro percentual) não haveria um feedback sobre os erros, não sendo possível aprimorar o algoritmo. O classificador passaria a ditar o que é relevante e irrelevante, dado que as probabilidades das palavras serem relevantes ou irrelevantes é ditada pela classificação dos tweets na base de treinamento, fazendo com que o classificador repita os erros de classificação e piore o seu desempenho."
   ]
  },
  {
   "cell_type": "markdown",
   "metadata": {},
   "source": [
    "### Diferentes cenários de uso\n",
    "- Classificar e-mails como SPAM ou NÃO-SPAM.\n",
    "- Probabilidade de ter uma certa doença via sequencia genética.\n",
    "- Prever se um time vai ganhar um jogo levando em conta artigos de análises feitos por especialistas no assunto."
   ]
  },
  {
   "cell_type": "markdown",
   "metadata": {},
   "source": [
    "### Sugestão de melhorias reais no classificador\n",
    "Uma possível melhoria seria a de adicionar mais tweets no banco de dados, para um maior treinamento do classificador, e por consequência aumentar a eficiência de nosso classificador, isso poderia ser feito apenas aumentando o número de tweets do algoritmo de coleta de tweets e classificando os tweets novos.  \n",
    "Outra melhoria considerada seria a de remover os stopwords pois são muito comuns e elas não adicionam em nada na classificação, para fazer isso seria o mesmo processo que fizemos na limpeza dos links, que foi basicamente percorrer os tweets com um loop e remover os itens indesejados. Material que fala sobre o tema disponível em: < https://monkeylearn.com/blog/practical-explanation-naive-bayes-classifier/ >"
   ]
  },
  {
   "cell_type": "markdown",
   "metadata": {},
   "source": [
    "___\n",
    "### Qualidade do Classificador a partir de novas separações dos tweets entre Treinamento e Teste\n",
    "\n",
    "Caso for fazer esse item do Projeto"
   ]
  },
  {
   "cell_type": "code",
   "execution_count": 70,
   "metadata": {},
   "outputs": [],
   "source": [
    "# Junta todos os tweets em um unico data frame\n",
    "treino = train.copy()\n",
    "treino = treino.rename(columns={\"Treinamento\": \"Tweets\"})\n",
    "teste_6 = test.copy()\n",
    "teste_6 = teste_6.rename(columns={\"Teste\": \"Tweets\"})\n",
    "teste_6 = teste_6.drop('classificado', axis='columns')\n",
    "junto = pd.concat([teste_6, treino], ignore_index=True)\n",
    "# Lista que vai conter os percentuais de acerto para cara itercao\n",
    "lista_acertos = []"
   ]
  },
  {
   "cell_type": "code",
   "execution_count": 71,
   "metadata": {},
   "outputs": [],
   "source": [
    "# funcao com os parametros definidos nessa etapa\n",
    "def classifica_tweet_2(tweet):\n",
    "    tweet = limpeza(tweet)\n",
    "    prob_tweet_dado_relevante, prob_tweet_dado_irrelevante = 1, 1\n",
    "    for palavra in tweet.split():\n",
    "        if palavra in tabela_relativa_relevante_2:\n",
    "            prob_tweet_dado_relevante *= (tabela_relativa_relevante_2[palavra]*len(serie_relevante_2) + 1)/(len(serie_relevante_2) + len(tabela_relativa_todas_mensagens_2))\n",
    "        else:\n",
    "            prob_tweet_dado_relevante *= (1)/(len(serie_relevante_2) + len(tabela_relativa_todas_mensagens_2))\n",
    "        if palavra in tabela_relativa_irrelevante_2:\n",
    "            prob_tweet_dado_irrelevante *= (tabela_relativa_irrelevante_2[palavra]*len(serie_irrelevante_2) + 1)/(len(serie_irrelevante_2) + len(tabela_relativa_todas_mensagens_2))\n",
    "        else:\n",
    "            prob_tweet_dado_irrelevante *= (1)/(len(serie_irrelevante_2) + len(tabela_relativa_todas_mensagens_2))\n",
    "    prob_relevante_dado_tweet = prob_tweet_dado_relevante * ProbR_2\n",
    "    prob_irrelevante_dado_tweet = prob_tweet_dado_irrelevante * ProbIR_2\n",
    "    return 1 if prob_relevante_dado_tweet > prob_irrelevante_dado_tweet else 0    "
   ]
  },
  {
   "cell_type": "code",
   "execution_count": 72,
   "metadata": {},
   "outputs": [
    {
     "name": "stderr",
     "output_type": "stream",
     "text": [
      "<ipython-input-72-a2257f5796c4>:26: SettingWithCopyWarning: \n",
      "A value is trying to be set on a copy of a slice from a DataFrame.\n",
      "Try using .loc[row_indexer,col_indexer] = value instead\n",
      "\n",
      "See the caveats in the documentation: https://pandas.pydata.org/pandas-docs/stable/user_guide/indexing.html#returning-a-view-versus-a-copy\n",
      "  novo_test['classificacao'] = novo_test.Tweets.apply(classifica_tweet_2)\n"
     ]
    }
   ],
   "source": [
    "from sklearn.model_selection import train_test_split\n",
    "# realizacao de 100 vezes do processo\n",
    "for _ in range(100):    \n",
    "    # Embaralha e separa o data frame total em dois com 300 tweets no treinamento e 200 tweets no teste\n",
    "    novo_train, novo_test = train_test_split(junto, test_size=0.4, train_size=0.6, shuffle=True)\n",
    "    # Cria e limpa o texto relevante a partir do df \n",
    "    texto_relevante_2 = ' '.join(novo_train.loc[novo_train.Relevancia == 1, 'Tweets'])\n",
    "    texto_relevante_2 = limpeza(texto_relevante_2)\n",
    "    # Cria e limpa o texto irrelevante a partir do df \n",
    "    texto_irrelevante_2 = ' '.join(novo_train.loc[novo_train.Relevancia == 0, 'Tweets'])\n",
    "    texto_irrelevante_2 = limpeza(texto_irrelevante_2)\n",
    "    # Cria as series relevantes\n",
    "    serie_relevante_2 = pd.Series(texto_relevante_2.split())\n",
    "    tabela_relativa_relevante_2= serie_relevante_2.value_counts(True)\n",
    "    # Cria as series irrelevantes\n",
    "    serie_irrelevante_2 = pd.Series(texto_irrelevante_2.split())\n",
    "    tabela_relativa_irrelevante_2 = serie_irrelevante_2.value_counts(True)\n",
    "    # Serie de todas as mensagens\n",
    "    todas_mensagens_2 = texto_relevante_2 + texto_irrelevante_2\n",
    "    serie_todas_mensagens_2 = pd.Series(todas_mensagens_2.split())\n",
    "    tabela_relativa_todas_mensagens_2 = serie_todas_mensagens_2.value_counts(True)\n",
    "    # Probabilidades de irrelevante e relevante\n",
    "    ProbR_2 = len(serie_relevante_2)/len(serie_todas_mensagens_2)\n",
    "    ProbIR_2 = len(serie_irrelevante_2)/len(serie_todas_mensagens_2)\n",
    "    # Classifica\n",
    "    novo_test['classificacao'] = novo_test.Tweets.apply(classifica_tweet_2)\n",
    "    # Pega os resultados\n",
    "    tabela_resultados = pd.crosstab(novo_test.Relevancia, novo_test.classificacao, normalize=True)\n",
    "    acertos = tabela_resultados[0][0] + tabela_resultados[1][1]\n",
    "    lista_acertos.append(acertos)"
   ]
  },
  {
   "cell_type": "code",
   "execution_count": 73,
   "metadata": {
    "scrolled": true
   },
   "outputs": [
    {
     "data": {
      "text/plain": [
       "Text(0, 0.5, 'Densidade')"
      ]
     },
     "execution_count": 73,
     "metadata": {},
     "output_type": "execute_result"
    },
    {
     "data": {
      "image/png": "[encoded data removed]",
      "text/plain": [
       "<Figure size 432x288 with 1 Axes>"
      ]
     },
     "metadata": {
      "needs_background": "light"
     },
     "output_type": "display_data"
    }
   ],
   "source": [
    "# Fazendo o histograma para os percentuais de acerto do classificador\n",
    "plt.hist(lista_acertos, edgecolor='white', density=True)\n",
    "plt.title('Percentual de acertos do classificador')\n",
    "plt.ylabel('Densidade')"
   ]
  },
  {
   "cell_type": "code",
   "execution_count": 74,
   "metadata": {
    "scrolled": true
   },
   "outputs": [
    {
     "name": "stdout",
     "output_type": "stream",
     "text": [
      "Uma possível desvantagem, é a de o percentual de acertos do classificador ser menor do que o possível para a base de dados. Por exemplo: Em uma das iterações o percentual de acerto do classificador foi de 0.56 enquanto em outro foi de 0.69 assim alcançando um resultado pior do que o possível para a base de dados que se possui.\n",
      "Uma possível vantagem seria a maior rapidez e facilidade de construir o classificador com uma unica divisao da base de dados\n"
     ]
    }
   ],
   "source": [
    "# Possíveis vantagens ou desvantagens sobre construir um classificador...\n",
    "# ...considerando uma única vez a divisão da base de dados em treinamento e em teste.\n",
    "\n",
    "print('Uma possível desvantagem, é a de o percentual de acertos do classificador ser menor do que o possível para a base de dados.', end=' ')\n",
    "print(f'Por exemplo: Em uma das iterações o percentual de acerto do classificador foi de {round(min(lista_acertos), 3)} enquanto em outro foi de {round(max(lista_acertos), 3)}', end=\" \")\n",
    "print('assim alcançando um resultado pior do que o possível para a base de dados que se possui.')\n",
    "print('Uma possível vantagem seria a maior rapidez e facilidade de construir o classificador com uma unica divisao da base de dados')"
   ]
  },
  {
   "cell_type": "markdown",
   "metadata": {},
   "source": [
    "___\n",
    "## Aperfeiçoamento:\n",
    "\n",
    "Os trabalhos vão evoluir em conceito dependendo da quantidade de itens avançados:\n",
    "\n",
    "* Limpar: \\n, :, \", ', (, ), etc SEM remover emojis\n",
    "* Corrigir separação de espaços entre palavras e emojis ou entre emojis e emojis\n",
    "* Propor outras limpezas e transformações que não afetem a qualidade da informação ou classificação\n",
    "* Criar categorias intermediárias de relevância baseadas na probabilidade: ex.: muito relevante, relevante, neutro, irrelevante, muito irrelevante (3 categorias: C, mais categorias conta para B)\n",
    "* Explicar por que não posso usar o próprio classificador para gerar mais amostras de treinamento\n",
    "* Propor diferentes cenários para Naïve Bayes fora do contexto do projeto\n",
    "* Sugerir e explicar melhorias reais com indicações concretas de como implementar (indicar como fazer e indicar material de pesquisa)\n"
   ]
  },
  {
   "cell_type": "markdown",
   "metadata": {},
   "source": [
    "___\n",
    "## Referências"
   ]
  },
  {
   "cell_type": "markdown",
   "metadata": {},
   "source": [
    "[Naive Bayes and Text Classification](https://arxiv.org/pdf/1410.5329.pdf)  **Mais completo**\n",
    "\n",
    "[A practical explanation of a Naive Bayes Classifier](https://monkeylearn.com/blog/practical-explanation-naive-bayes-classifier/) **Mais simples**"
   ]
  },
  {
   "cell_type": "code",
   "execution_count": null,
   "metadata": {},
   "outputs": [],
   "source": []
  }
 ],
 "metadata": {
  "kernelspec": {
   "display_name": "Python 3",
   "language": "python",
   "name": "python3"
  },
  "language_info": {
   "codemirror_mode": {
    "name": "ipython",
    "version": 3
   },
   "file_extension": ".py",
   "mimetype": "text/x-python",
   "name": "python",
   "nbconvert_exporter": "python",
   "pygments_lexer": "ipython3",
   "version": "3.8.3"
  }
 },
 "nbformat": 4,
 "nbformat_minor": 4
}
